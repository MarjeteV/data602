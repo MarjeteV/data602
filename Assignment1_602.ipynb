{
  "nbformat": 4,
  "nbformat_minor": 0,
  "metadata": {
    "colab": {
      "provenance": []
    },
    "kernelspec": {
      "name": "python3",
      "display_name": "Python 3"
    },
    "language_info": {
      "name": "python"
    }
  },
  "cells": [
    {
      "cell_type": "code",
      "source": [
        "#Q1 Fix all the syntax and logical errors in the given source code\n",
        "#add comments to explain your reasoning\n",
        "\n",
        "# This program gets three test scores and displays their average.  It congratulates the user if the\n",
        "# average is a high score. The high score variable holds the value that is considered a high score.\n",
        "\n",
        "HIGH_SCORE = 95\n",
        "\n",
        "# Get the test scores.\n",
        "#MV - updated data type to int, below, TypeError: unsupported operand type(s) for /: 'str' and 'int)\n",
        "test1 = int(input('Enter the score for test 1: '))\n",
        "test2 = int(input('Enter the score for test 2: '))\n",
        "test3 = int(input('Enter the score for test 3: '))\n",
        "# Calculate the average test score.\n",
        "#MV- Added parenthesis to avg to follow pandas\n",
        "average = ((test1 + test2 + test3) / 3)\n",
        "# Print the average.\n",
        "print('The average score is', average)\n",
        "# If the average is a high score, ERROR: 'high_score' is not defined\n",
        "# congratulate the user;\n",
        "#MV- variable above is caps, updating from lowercase\n",
        "if average >= HIGH_SCORE:\n",
        "    print('Congratulations!')\n",
        "else:\n",
        "  print('That is a great average!')\n",
        "#MV- added 'else' to function above; but its actually runs fine with out it- why is that?"
      ],
      "metadata": {
        "colab": {
          "base_uri": "https://localhost:8080/"
        },
        "id": "1XWvbnCJN3Gt",
        "outputId": "612aa98b-af65-4518-d408-054ce9f859b5"
      },
      "execution_count": null,
      "outputs": [
        {
          "output_type": "stream",
          "name": "stdout",
          "text": [
            "Enter the score for test 1: 100\n",
            "Enter the score for test 2: 100\n",
            "Enter the score for test 3: 98\n",
            "The average score is 99.33333333333333\n",
            "Congratulations!\n"
          ]
        }
      ]
    },
    {
      "cell_type": "code",
      "source": [
        "#Q2\n",
        "#The area of a rectangle is the rectangle’s length times its width. Write a program that asks for the length and width of two rectangles and prints to the user the area of both rectangles.\n",
        "#using similar method to Q1 since we want user to ask?\n",
        "\n",
        "# length & width of the first rectangle from the user; int or float would be find depending\n",
        "length_1 = float(input(\"Enter the length of the first rectangle: \"))\n",
        "width_1 = float(input(\"Enter the width of the first rectangle: \"))\n",
        "\n",
        "# area of the first rectangle\n",
        "area_1 = length_1 * width_1\n",
        "\n",
        "# Get the L & W of the 2nd rectangle from the user\n",
        "length_2 = float(input(\"Enter the length of the second rectangle: \"))\n",
        "width_2 = float(input(\"Enter the width of the second rectangle: \"))\n",
        "\n",
        "# area of the 2nd rectangle\n",
        "area_2 = length_2 * width_2\n",
        "\n",
        "# Print the areas of both rectangles\n",
        "print(\"Area of the first rectangle:\", area_1)\n",
        "print(\"Area of the second rectangle:\", area_2)\n",
        "\n",
        "\n",
        "\n"
      ],
      "metadata": {
        "colab": {
          "base_uri": "https://localhost:8080/"
        },
        "id": "yjkbta36OMF3",
        "outputId": "32410554-d817-49e1-fe64-b96c5af91ca2"
      },
      "execution_count": null,
      "outputs": [
        {
          "output_type": "stream",
          "name": "stdout",
          "text": [
            "Enter the length of the first rectangle: 8\n",
            "Enter the width of the first rectangle: 9.7\n",
            "Enter the length of the second rectangle: 6\n",
            "Enter the width of the second rectangle: 12\n",
            "Area of the first rectangle: 77.6\n",
            "Area of the second rectangle: 72.0\n"
          ]
        }
      ]
    },
    {
      "cell_type": "code",
      "source": [
        "\n",
        "#Q3\n",
        "#Ask a user to enter their first name and their age and assign it to the variables name and age.\n",
        "#The variable name should be a string and the variable age should be an int.\n",
        "first_name = (input(\"Enter your first name: \"))\n",
        "age = int(input(\"Enter your age: \"))\n",
        "\n",
        "#Using the variables name and age, print a message to the user stating something along the lines of:\n",
        "# \"Happy birthday, name!  You are age years old today!\"\n",
        "print(\"Happy Birthday\", first_name, \"You are\", age, \"today!\")\n"
      ],
      "metadata": {
        "colab": {
          "base_uri": "https://localhost:8080/"
        },
        "id": "jYrVUn6BONhl",
        "outputId": "0d05a212-8632-44fd-d755-701983ddee88"
      },
      "execution_count": null,
      "outputs": [
        {
          "output_type": "stream",
          "name": "stdout",
          "text": [
            "Enter your first name: MARJETE\n",
            "Enter your age: 29\n",
            "Happy Birthday MARJETE You are 29 today!\n"
          ]
        }
      ]
    }
  ]
}