{
  "nbformat": 4,
  "nbformat_minor": 0,
  "metadata": {
    "colab": {
      "provenance": [],
      "authorship_tag": "ABX9TyPZac0jwe7yJmmbZ4ngDK7K",
      "include_colab_link": true
    },
    "kernelspec": {
      "name": "python3",
      "display_name": "Python 3"
    },
    "language_info": {
      "name": "python"
    }
  },
  "cells": [
    {
      "cell_type": "markdown",
      "metadata": {
        "id": "view-in-github",
        "colab_type": "text"
      },
      "source": [
        "<a href=\"https://colab.research.google.com/github/MarjeteV/data602/blob/main/assignment4.ipynb\" target=\"_parent\"><img src=\"https://colab.research.google.com/assets/colab-badge.svg\" alt=\"Open In Colab\"/></a>"
      ]
    },
    {
      "cell_type": "markdown",
      "source": [
        "**Q1: Create a class called BankAccount that has four attributes: bankname, firstname, lastname, and balance.**\n",
        "\n",
        "The default balance should be set to 0.\n",
        "In addition, create ...\n",
        "\n",
        "● A method called deposit() that allows the\n",
        "user to make deposits into their balance.\n",
        "\n",
        "\n",
        "● A method called withdrawal() that allows the user to withdraw from their balance.\n",
        "\n",
        "● Withdrawal may not exceed the available balance. Hint: consider a conditional argument in your withdrawal() method.\n",
        "\n",
        "● Use the __str__() method in order to display the bank name, owner name, and current balance.\n",
        "\n",
        "● Make a series of deposits and withdrawals to test your class."
      ],
      "metadata": {
        "id": "vf_p5x2gN8iv"
      }
    },
    {
      "cell_type": "code",
      "source": [
        "class BankAccount:\n",
        "    def __init__(self, bankname, firstname, lastname, balance=0):\n",
        "        self.bankname = bankname\n",
        "        self.firstname = firstname\n",
        "        self.lastname = lastname\n",
        "        self.balance = balance\n",
        "\n",
        "    def deposit(self, amount):\n",
        "        if amount > 0:\n",
        "            self.balance += amount\n",
        "            print(f\"Deposited ${amount}. New balance: ${self.balance}\")\n",
        "        else:\n",
        "            print(\"Deposit amount must be greater than zero.\")\n",
        "\n",
        "    def withdrawal(self, amount):\n",
        "        if amount <= self.balance:\n",
        "            self.balance -= amount\n",
        "            print(f\"Withdrawn ${amount}. New balance: ${self.balance}\")\n",
        "        else:\n",
        "            print(\"Insufficient funds for withdrawal.\")\n",
        "\n",
        "    def __str__(self):\n",
        "        return f\"Bank: {self.bankname}\\nOwner: {self.firstname} {self.lastname}\\nBalance: ${self.balance}\"\n",
        "\n",
        "# Test\n",
        "account = BankAccount(\"BestBank\", \"Jane\", \"Doe\")\n",
        "print(account)\n",
        "\n",
        "account.deposit(200)\n",
        "account.withdrawal(70)\n",
        "account.withdrawal(120)\n",
        "account.deposit(300)\n",
        "print(account)\n"
      ],
      "metadata": {
        "id": "BUDY1wrdOI9R",
        "colab": {
          "base_uri": "https://localhost:8080/"
        },
        "outputId": "1d7895d3-589c-4e33-953b-29949c7199e4"
      },
      "execution_count": 3,
      "outputs": [
        {
          "output_type": "stream",
          "name": "stdout",
          "text": [
            "Bank: BestBank\n",
            "Owner: Jane Doe\n",
            "Balance: $0\n",
            "Deposited $200. New balance: $200\n",
            "Withdrawn $70. New balance: $130\n",
            "Withdrawn $120. New balance: $10\n",
            "Deposited $300. New balance: $310\n",
            "Bank: BestBank\n",
            "Owner: Jane Doe\n",
            "Balance: $310\n"
          ]
        }
      ]
    },
    {
      "cell_type": "markdown",
      "source": [
        "**Q2: Create a class Box that has attributes length and width that takes values for length and width upon construction (instantiation via the constructor).**\n",
        "In addition, create...\n",
        "\n",
        "● A method called render() that prints out to the screen a box made with asterisks of\n",
        "length and width dimensions\n",
        "\n",
        "● A method called invert() that switches length and width with each other\n",
        "\n",
        "● Methods get_area() and get_perimeter() that return appropriate geometric calculations\n",
        "\n",
        "● A method called double() that doubles the size of the box. Hint: Pay attention to return value here.\n",
        "\n",
        "● Implement __eq__ so that two boxes can be compared using ==. Two boxes are equal if\n",
        "their respective lengths and widths are identical.\n",
        "\n",
        "● A method print_dim() that prints to screen the length and width details of the box\n",
        "\n",
        "● A method get_dim() that returns a tuple containing the length and width of the box\n",
        "\n",
        "● A method combine() that takes another box as an argument and increases the length\n",
        "and width by the dimensions of the box passed in\n",
        "\n",
        "● A method get_hypot() that finds the length of the diagonal that cuts through the middle\n",
        "\n",
        "● Instantiate 3 boxes of dimensions 5,10 , 3,4 and 5,10 and assign to variables box1, box2 and box3 respectively\n",
        "\n",
        "● Print dimension info for each using print_dim()\n",
        "\n",
        "● Evaluate if box1 == box2, and also evaluate if box1 == box3, print True or False to the screen accordingly\n",
        "\n",
        "● Combine box3 into box1 (i.e. box1.combine())\n",
        "\n",
        "● Double the size of box2\n",
        "\n",
        "● Combine box2 into box1"
      ],
      "metadata": {
        "id": "14l73k5VN85F"
      }
    },
    {
      "cell_type": "code",
      "source": [
        "import math\n",
        "\n",
        "class Box:\n",
        "    def __init__(self, length, width):\n",
        "        self.length = length\n",
        "        self.width = width\n",
        "\n",
        "    def render(self):\n",
        "        for i in range(self.width):\n",
        "            print('*' * self.length)\n",
        "\n",
        "    def invert(self):\n",
        "        self.length, self.width = self.width, self.length\n",
        "\n",
        "    def get_area(self):\n",
        "        return self.length * self.width\n",
        "\n",
        "    def get_perimeter(self):\n",
        "        return 2 * (self.length + self.width)\n",
        "\n",
        "    def double(self):\n",
        "        self.length *= 2\n",
        "        self.width *= 2\n",
        "\n",
        "    def __eq__(self, other):\n",
        "        return self.length == other.length and self.width == other.width\n",
        "\n",
        "    def print_dim(self):\n",
        "        print(f\"Length: {self.length}, Width: {self.width}\")\n",
        "\n",
        "    def get_dim(self):\n",
        "        return self.length, self.width\n",
        "\n",
        "    def combine(self, other):\n",
        "        self.length += other.length\n",
        "        self.width += other.width\n",
        "\n",
        "    def get_hypot(self):\n",
        "        return math.sqrt(self.length**2 + self.width**2)\n",
        "\n",
        "box1 = Box(5, 10)\n",
        "box2 = Box(3, 4)\n",
        "box3 = Box(5, 10)\n",
        "\n",
        "print(\"Box 1:\")\n",
        "box1.print_dim()\n",
        "print(\"Box 2:\")\n",
        "box2.print_dim()\n",
        "print(\"Box 3:\")\n",
        "box3.print_dim()\n",
        "\n",
        "print(\"Is box1 equal to box2?\", box1 == box2)\n",
        "print(\"Is box1 equal to box3?\", box1 == box3)\n",
        "\n",
        "# Combine 3 into 1\n",
        "box1.combine(box3)\n",
        "print(\"Combined box3 into box1. New dimensions of box1:\")\n",
        "box1.print_dim()\n",
        "\n",
        "# Double the size of 2\n",
        "print(\"Doubling the size of box2\")\n",
        "box2.double()\n",
        "box2.print_dim()\n",
        "\n",
        "# Combine 2 & 1\n",
        "box1.combine(box2)\n",
        "print(\"Combined box2 into box1. New dimensions of box1:\")\n",
        "box1.print_dim()\n"
      ],
      "metadata": {
        "id": "RLjnGG_rN9BK",
        "colab": {
          "base_uri": "https://localhost:8080/"
        },
        "outputId": "7724ef9d-86cd-412b-a55c-bc7133eb8f9c"
      },
      "execution_count": 1,
      "outputs": [
        {
          "output_type": "stream",
          "name": "stdout",
          "text": [
            "Box 1:\n",
            "Length: 5, Width: 10\n",
            "Box 2:\n",
            "Length: 3, Width: 4\n",
            "Box 3:\n",
            "Length: 5, Width: 10\n",
            "Is box1 equal to box2? False\n",
            "Is box1 equal to box3? True\n",
            "Combined box3 into box1. New dimensions of box1:\n",
            "Length: 10, Width: 20\n",
            "Doubling the size of box2\n",
            "Length: 6, Width: 8\n",
            "Combined box2 into box1. New dimensions of box1:\n",
            "Length: 16, Width: 28\n"
          ]
        }
      ]
    }
  ]
}