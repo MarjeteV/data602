{
  "nbformat": 4,
  "nbformat_minor": 0,
  "metadata": {
    "colab": {
      "provenance": [],
      "authorship_tag": "ABX9TyP7+3BCzOc17EewkA63hkJf",
      "include_colab_link": true
    },
    "kernelspec": {
      "name": "python3",
      "display_name": "Python 3"
    },
    "language_info": {
      "name": "python"
    }
  },
  "cells": [
    {
      "cell_type": "markdown",
      "metadata": {
        "id": "view-in-github",
        "colab_type": "text"
      },
      "source": [
        "<a href=\"https://colab.research.google.com/github/MarjeteV/data602/blob/main/assignment2.ipynb\" target=\"_parent\"><img src=\"https://colab.research.google.com/assets/colab-badge.svg\" alt=\"Open In Colab\"/></a>"
      ]
    },
    {
      "cell_type": "markdown",
      "source": [
        "Q1. What will the following code display? numbers = [1, 2, 3, 4, 5] print(numbers[1:-5])\n",
        "**The output is a blank bracket**\n",
        "\n",
        "Can you debug and fix the output? The code should return the entire list\n",
        "**To debug the code, the print statement bracket should start with 0 to include the first number and end in positive 5.**"
      ],
      "metadata": {
        "id": "zt8vGk55wiqp"
      }
    },
    {
      "cell_type": "code",
      "source": [
        "numbers = [1, 2, 3, 4, 5]\n",
        "print(numbers[1:-5])"
      ],
      "metadata": {
        "colab": {
          "base_uri": "https://localhost:8080/"
        },
        "id": "kccc93YwwmPg",
        "outputId": "1268b5d7-8a43-412c-aa60-28c5e28715c6"
      },
      "execution_count": null,
      "outputs": [
        {
          "output_type": "stream",
          "name": "stdout",
          "text": [
            "[]\n"
          ]
        }
      ]
    },
    {
      "cell_type": "code",
      "source": [
        "numbers = [1, 2, 3, 4, 5]\n",
        "print(numbers[0:5])"
      ],
      "metadata": {
        "colab": {
          "base_uri": "https://localhost:8080/"
        },
        "id": "sXAN378LxR2w",
        "outputId": "d109e9e0-9a05-4dc7-806e-429c528ef8e4"
      },
      "execution_count": null,
      "outputs": [
        {
          "output_type": "stream",
          "name": "stdout",
          "text": [
            "[1, 2, 3, 4, 5]\n"
          ]
        }
      ]
    },
    {
      "cell_type": "markdown",
      "source": [
        "Q2. Design a program that asks the user to enter a store’s sales for each day of the week. The amounts should be stored in a list. Use a loop to calculate the total sales for the week and display the result."
      ],
      "metadata": {
        "id": "_dqvA3DRwYrk"
      }
    },
    {
      "cell_type": "code",
      "source": [
        "weekly_sales = []\n",
        "for day in [\"Monday\", \"Tuesday\", \"Wednesday\", \"Thursday\", \"Friday\"]:\n",
        "        sales = float(input(f\"Enter sales for {day}: $\"))\n",
        "        weekly_sales.append(sales)\n",
        "total_sales = 0\n",
        "\n",
        "for sales in weekly_sales:\n",
        "\n",
        "        total_sales += sales\n",
        "print(f\"\\nTotal sales for the week: ${total_sales:}\")\n"
      ],
      "metadata": {
        "colab": {
          "base_uri": "https://localhost:8080/"
        },
        "id": "3T6_c47Mwo87",
        "outputId": "7b867288-3a4c-4cfe-e87a-196276d25dcd"
      },
      "execution_count": null,
      "outputs": [
        {
          "output_type": "stream",
          "name": "stdout",
          "text": [
            "Enter sales for Monday: $456\n",
            "Enter sales for Tuesday: $475\n",
            "Enter sales for Wednesday: $564\n",
            "Enter sales for Thursday: $345\n",
            "Enter sales for Friday: $645\n",
            "\n",
            "Total sales for the week: $2485.0\n"
          ]
        }
      ]
    },
    {
      "cell_type": "markdown",
      "source": [
        "Q3. Create a list with at least 5 places you’d like to travel to. Make sure the list isn’t in alphabetical order\n",
        "\n",
        "● Print your list in its original order.\n",
        "\n",
        "● Use the sort() function to arrange your list in order and reprint your list.\n",
        "\n",
        "● Use the sort(reverse=True) and reprint your list.\n"
      ],
      "metadata": {
        "id": "oC8_-xpmwoE-"
      }
    },
    {
      "cell_type": "code",
      "source": [
        "travel = [\"France\", \"Sweden\", \"Albania\", \"Spain\", \"Thailand\"]\n",
        "print(travel)\n",
        "travel.sort\n",
        "print(sorted(travel))\n",
        "travel.sort(reverse=True)\n",
        "print(\"Reverse Sorted Order:\")\n",
        "print(travel)\n"
      ],
      "metadata": {
        "colab": {
          "base_uri": "https://localhost:8080/"
        },
        "id": "mX1GR3WpwvkP",
        "outputId": "5f393645-c63b-43cb-8f91-46adb1d33c81"
      },
      "execution_count": null,
      "outputs": [
        {
          "output_type": "stream",
          "name": "stdout",
          "text": [
            "['France', 'Sweden', 'Albania', 'Spain', 'Thailand']\n",
            "['Albania', 'France', 'Spain', 'Sweden', 'Thailand']\n",
            "Reverse Sorted Order:\n",
            "['Thailand', 'Sweden', 'Spain', 'France', 'Albania']\n"
          ]
        }
      ]
    },
    {
      "cell_type": "markdown",
      "source": [
        "Q4. Write a program that creates a dictionary containing course numbers and the room numbers of the rooms where the courses meet. The program should also create a dictionary containing course numbers and the names of the instructors that teach each course. After that, the program should let the user enter a course number, then it should display the course’s room number, instructor, and meeting time."
      ],
      "metadata": {
        "id": "9kx0nIuAwwSb"
      }
    },
    {
      "cell_type": "code",
      "source": [
        "courses = {\"data607\": \"200\", \"data602\": \"150\",\"data605\": \"250\"}\n",
        "\n",
        "courses = {\n",
        "    \"data607\": {\"room\":\"200\", \"instructor\": \"Andy\", \"time\": \"8 PM\"},\n",
        "    \"data605\": {\"room\": \"250\",\"instructor\": \"Larry\", \"time\": \"7 PM\"},\n",
        "    \"data602\": {\"room\":\"150\", \"instructor\": \"Nick\", \"time\": \"6 PM\"} }\n",
        "\n",
        "course_number = input(\"Enter the course number: \")\n",
        "course_details = courses.get(course_number)\n",
        "if course_details:\n",
        "    print(f\"Room Number: {course_details['room']}\")\n",
        "    print(f\"Instructor: {course_details['instructor']}\")\n",
        "    print(f\"Meeting Time: {course_details['time']}\")\n",
        "else:\n",
        "        print(\"Course not found.\")\n"
      ],
      "metadata": {
        "colab": {
          "base_uri": "https://localhost:8080/"
        },
        "id": "5cLz7pFzwyKI",
        "outputId": "65a569cd-132a-4b1b-fb18-84b5c18538cd"
      },
      "execution_count": null,
      "outputs": [
        {
          "output_type": "stream",
          "name": "stdout",
          "text": [
            "Enter the course number: data602\n",
            "Room Number: 150\n",
            "Instructor: Nick\n",
            "Meeting Time: 6 PM\n"
          ]
        }
      ]
    },
    {
      "cell_type": "markdown",
      "source": [
        "Q5. Write a program that keeps names and email addresses in a dictionary as key-value pairs. The program should then demonstrate the four options:\n",
        "\n",
        "● look up a person’s email address,\n",
        "\n",
        "● add a new name and email address,\n",
        "\n",
        "● change an existing email address, and\n",
        "\n",
        "● delete an existing name and email address."
      ],
      "metadata": {
        "id": "P6CNUq7twymC"
      }
    },
    {
      "cell_type": "code",
      "source": [
        "address_book= {\"name\":\"email address\", \"Marjete\": \"marjete.ds@gmail.com\"}\n",
        "\n",
        "#look up a person’s email address\n",
        "find_email = input(\"Enter email address to search: \")\n",
        "found_name = None\n",
        "for name, email in address_book.items():\n",
        "    if email == find_email:\n",
        "        found_name = name\n",
        "        break\n",
        "if found_name:\n",
        "    print(f\"The name associated with the email address {find_email} is: {found_name}\")\n",
        "else:\n",
        "    print(\"Email address not found in the address book\")"
      ],
      "metadata": {
        "colab": {
          "base_uri": "https://localhost:8080/"
        },
        "id": "N2mzHAWaw02i",
        "outputId": "ce7c63a2-6f37-4bef-d6d4-da58eeb5a273"
      },
      "execution_count": null,
      "outputs": [
        {
          "output_type": "stream",
          "name": "stdout",
          "text": [
            "Enter email address to search: marjete.ds@gmail.com\n",
            "The name associated with the email address marjete.ds@gmail.com is: Marjete\n"
          ]
        }
      ]
    },
    {
      "cell_type": "code",
      "source": [
        "address_book= {\"name\":\"email address\", \"Marjete\": \"marjete.ds@gmail.com\"}\n",
        "\n",
        "#add a new name and email address\n",
        "new_name = input(\"Enter the new name: \")\n",
        "new_email = input(\"Enter the new email address: \")\n",
        "address_book[new_name] = new_email\n",
        "\n",
        "print(\"\\nUpdated address_book:\")\n",
        "print(address_book)"
      ],
      "metadata": {
        "colab": {
          "base_uri": "https://localhost:8080/"
        },
        "id": "3FDOWERELJZa",
        "outputId": "a14b2c99-bbf7-4e7d-ba6e-1cc855519396"
      },
      "execution_count": null,
      "outputs": [
        {
          "output_type": "stream",
          "name": "stdout",
          "text": [
            "Enter the new name: bob\n",
            "Enter the new email address: bob21@gmail.com\n",
            "\n",
            "Updated address_book:\n",
            "{'name': 'email address', 'Marjete': 'marjete.ds@gmail.com', 'bob': 'bob21@gmail.com'}\n"
          ]
        }
      ]
    },
    {
      "cell_type": "code",
      "source": [
        "address_book= {\"name\":\"email address\", \"Marjete\": \"marjete.ds@gmail.com\", \"Bob\":\"bob21@gmail.com\"}\n",
        "# Change an existing email address\n",
        "name_change = input(\"Enter the name whose email address you want to change: \")\n",
        "\n",
        "if name_change in address_book:\n",
        "    new_email = input(\"Enter the new email address: \")\n",
        "    address_book[name_change] = new_email\n",
        "\n",
        "    print(f\"Changed email address for {name_change} to {new_email}\")\n",
        "else:\n",
        "    print(f\"The name {name_change} does not exist in the address book.\")\n",
        "print(\"\\nUpdated address_book:\")\n",
        "print(address_book)"
      ],
      "metadata": {
        "colab": {
          "base_uri": "https://localhost:8080/"
        },
        "id": "DQnm6NlupYxC",
        "outputId": "73074d16-cfce-44df-87c3-9f584ff183b8"
      },
      "execution_count": null,
      "outputs": [
        {
          "output_type": "stream",
          "name": "stdout",
          "text": [
            "Enter the name whose email address you want to change: Bob\n",
            "Enter the new email address: bob33@gmail.copm\n",
            "Changed email address for Bob to bob33@gmail.copm\n",
            "\n",
            "Updated address_book:\n",
            "{'name': 'email address', 'Marjete': 'marjete.ds@gmail.com', 'Bob': 'bob33@gmail.copm'}\n"
          ]
        }
      ]
    },
    {
      "cell_type": "code",
      "source": [
        "address_book= {\"name\":\"email address\", \"Marjete\": \"marjete.ds@gmail.com\", \"Bob\":\"bob21@gmail.com\"}\n",
        "\n",
        "name = input(\"Enter the name to delete: \")\n",
        "if name in address_book:\n",
        "    del address_book[name]\n",
        "    print(f\"Deleted {name} from the address book.\")\n",
        "else:\n",
        "        print(f\"The name {name} does not exist in the address book.\")\n"
      ],
      "metadata": {
        "id": "RpSkCJuIpXwE",
        "colab": {
          "base_uri": "https://localhost:8080/"
        },
        "outputId": "287f2555-c458-455a-d5cb-d600f941285d"
      },
      "execution_count": 36,
      "outputs": [
        {
          "output_type": "stream",
          "name": "stdout",
          "text": [
            "Enter the name to delete: Bob\n",
            "Deleted Bob from the address book.\n"
          ]
        }
      ]
    }
  ]
}