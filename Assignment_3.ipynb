{
  "nbformat": 4,
  "nbformat_minor": 0,
  "metadata": {
    "colab": {
      "provenance": [],
      "authorship_tag": "ABX9TyOD1b6AY0aSjCyqxAq0ejXQ",
      "include_colab_link": true
    },
    "kernelspec": {
      "name": "python3",
      "display_name": "Python 3"
    },
    "language_info": {
      "name": "python"
    }
  },
  "cells": [
    {
      "cell_type": "markdown",
      "metadata": {
        "id": "view-in-github",
        "colab_type": "text"
      },
      "source": [
        "<a href=\"https://colab.research.google.com/github/MarjeteV/data602/blob/main/Assignment_3.ipynb\" target=\"_parent\"><img src=\"https://colab.research.google.com/assets/colab-badge.svg\" alt=\"Open In Colab\"/></a>"
      ]
    },
    {
      "cell_type": "markdown",
      "source": [
        " Q1: Write a program that prompts the user for a meal: breakfast, lunch, or dinner. Then using if statements and else statements print the user a message recommending a meal. For example, if the meal was breakfast, you could say something like, “How about some bacon and eggs?” The user may enter something else in, but you only have to respond to breakfast, lunch, or dinner."
      ],
      "metadata": {
        "id": "FQlIJDwk-poU"
      }
    },
    {
      "cell_type": "code",
      "source": [
        "meal_choice = input(\"What meal would you like a recommendation for (breakfast, lunch, or dinner)? \")\n",
        "\n",
        "if meal_choice == \"breakfast\":\n",
        "    print(\"How about some bacon and eggs?\")\n",
        "elif meal_choice == \"lunch\":\n",
        "    print(\"Would you like to have a sandwich or a soup?\")\n",
        "elif meal_choice == \"dinner\":\n",
        "    print(\"Maybe you would like to have some grilled chicken or branzino.\")\n",
        "else:\n",
        "    print(\"Sorry, I only recommend meals for breakfast, lunch, or dinner.\")"
      ],
      "metadata": {
        "colab": {
          "base_uri": "https://localhost:8080/"
        },
        "id": "Pw3X6OHs-sv6",
        "outputId": "25d49e37-1d7f-419c-8736-cbe07c10f37d"
      },
      "execution_count": 2,
      "outputs": [
        {
          "output_type": "stream",
          "name": "stdout",
          "text": [
            "What meal would you like a recommendation for (breakfast, lunch, or dinner)? lunch\n",
            "Would you like to have a sandwich or a soup.\n"
          ]
        }
      ]
    },
    {
      "cell_type": "markdown",
      "source": [
        "\n",
        "Q2: The mailroom has asked you to design a simple payroll program that calculates a student employee’s gross pay, including any overtime wages. If any employee works over 20 hours in a week, the mailroom pays them 1.5 times their regular hourly pay rate for all hours over 20.\n",
        "You should take in the user’s input for the number of hours worked, and their rate of pay."
      ],
      "metadata": {
        "id": "rg69yR41-u1R"
      }
    },
    {
      "cell_type": "code",
      "source": [
        "def calculate_gross_pay(hours_worked, hourly_rate):\n",
        "    if hours_worked <= 20:\n",
        "        gross_pay = hours_worked * hourly_rate\n",
        "    else:\n",
        "        regular_pay = 20 * hourly_rate\n",
        "        overtime_hours = hours_worked - 20\n",
        "        overtime_pay = overtime_hours * 1.5 * hourly_rate\n",
        "        gross_pay = regular_pay + overtime_pay\n",
        "    return gross_pay\n",
        "gross_pay = calculate_gross_pay(hours_worked, hourly_rate)\n",
        "print(f\"Total Gross Pay: ${gross_pay:.2f}\")\n",
        "\n",
        "hours_worked = float(input(\"Enter the number of hours worked: \"))\n",
        "hourly_rate = float(input(\"Enter the hourly pay rate: \"))"
      ],
      "metadata": {
        "colab": {
          "base_uri": "https://localhost:8080/"
        },
        "id": "O_rUzR0V-07F",
        "outputId": "33b75d8c-f65b-4f06-f6da-7be18d99b4ee"
      },
      "execution_count": 12,
      "outputs": [
        {
          "output_type": "stream",
          "name": "stdout",
          "text": [
            "Enter the number of hours worked: 24\n",
            "Enter the hourly pay rate: 10\n",
            "Total Gross Pay: $260.00\n"
          ]
        }
      ]
    },
    {
      "cell_type": "markdown",
      "source": [
        "\n",
        "Q3: Write a function named times_ten. The function should accept an argument and display the product of its argument multiplied times 10."
      ],
      "metadata": {
        "id": "_VuZE62a-1tE"
      }
    },
    {
      "cell_type": "code",
      "source": [
        "def times_ten(argument):\n",
        "    result = argument * 10\n",
        "    print(\"Result:\", result)\n",
        "\n",
        "# Example usage:\n",
        "input_number = float(input(\"Enter a number: \"))\n",
        "times_ten(input_number)"
      ],
      "metadata": {
        "colab": {
          "base_uri": "https://localhost:8080/"
        },
        "id": "vJnStK3j-4sb",
        "outputId": "116af40b-9f9c-4c8a-8dbe-f06ab6feea85"
      },
      "execution_count": 15,
      "outputs": [
        {
          "output_type": "stream",
          "name": "stdout",
          "text": [
            "Enter a number: 5\n",
            "Result: 50.0\n"
          ]
        }
      ]
    },
    {
      "cell_type": "markdown",
      "source": [
        "SQ4: Find the errors, debug the program, and then execute to show the output.\n",
        "def main()\n",
        "Calories1 = input( \"How many calories are in the first food?\") Calories2 = input( \"How many calories are in the first food?\") showCalories(calories1, calories2)\n",
        "def showCalories()\n",
        "print(“The total calories you ate today”, format(calories1 + calories2,.2f))\n",
        "\n",
        "**Errors**\n",
        "\n",
        "*  calories is present with lower case and capital 'C' -> I capitalized them\n",
        "*   Both calories1 & 2 referred to the first food -> edited so the 2nd referrs to second food\n",
        "*   added colon (:) to both functions\n",
        "*   moved '.2f' in the print function\n",
        "*   added 'int' to the input to return integers\n",
        "*   called main function\n",
        "\n",
        "\n",
        "\n",
        "\n",
        "\n",
        "\n",
        "\n",
        "\n"
      ],
      "metadata": {
        "id": "KkoaTMjP-5Qa"
      }
    },
    {
      "cell_type": "code",
      "source": [
        "def main():\n",
        "  Calories1 = input(\"How many calories are in the first food? \")\n",
        "  Calories2 = input(\"How many calories are in the second food? \")\n",
        "  showCalories(int(Calories1), int(Calories2))\n",
        "\n",
        "def showCalories(Calories1,Calories2):\n",
        "   print(\"The total calories you ate today {:.2f}\".format(Calories1 + Calories2))\n",
        "main()"
      ],
      "metadata": {
        "colab": {
          "base_uri": "https://localhost:8080/"
        },
        "id": "_ruR-aLb-8K7",
        "outputId": "b42819ba-c4bb-4df3-f2dc-8cb1809cb0f4"
      },
      "execution_count": 23,
      "outputs": [
        {
          "output_type": "stream",
          "name": "stdout",
          "text": [
            "How many calories are in the first food? 100\n",
            "How many calories are in the second food? 350\n",
            "The total calories you ate today 450.00\n"
          ]
        }
      ]
    },
    {
      "cell_type": "markdown",
      "source": [
        "Q5: Write a program that uses any loop (while or for) that calculates the total of the following series of numbers:\n",
        "1/30 + 2/29 + 3/28 ............. + 30/1\n"
      ],
      "metadata": {
        "id": "keYbnO59-8c6"
      }
    },
    {
      "cell_type": "code",
      "source": [
        "total = 0\n",
        "\n",
        "for x in range(1, 31):\n",
        "    total += x / (31 - x)\n",
        "\n",
        "print(\"Total of the series:\", round(total,2))\n"
      ],
      "metadata": {
        "colab": {
          "base_uri": "https://localhost:8080/"
        },
        "id": "Y_2qpmNw--Yx",
        "outputId": "8955b14b-063b-45a5-a521-f1026cc769e7"
      },
      "execution_count": 5,
      "outputs": [
        {
          "output_type": "stream",
          "name": "stdout",
          "text": [
            "Total of the series: 93.84\n"
          ]
        }
      ]
    },
    {
      "cell_type": "markdown",
      "source": [
        "Q6: Write a function that computes the area of a triangle given its base and height. The formula for an area of a triangle is:\n",
        "AREA = 1/2 * BASE * HEIGHT\n",
        "For example, if the base was 5 and the height was 4, the area would be 10. triangle_area(5, 4) # should print 10"
      ],
      "metadata": {
        "id": "4lgF_mRm--PL"
      }
    },
    {
      "cell_type": "code",
      "source": [
        "def area_triangle(base, height):\n",
        "  area = .5*base*height\n",
        "  return area\n",
        "\n",
        "base = float(input(\"Enter the base: \"))\n",
        "height = float(input(\"Enter the height : \"))\n",
        "print(\"Area of the triangle:\", area_triangle(base, height))\n"
      ],
      "metadata": {
        "colab": {
          "base_uri": "https://localhost:8080/"
        },
        "id": "IvJP9kem_A1x",
        "outputId": "4816e8a1-a8b0-4b79-c90b-f58b570a937c"
      },
      "execution_count": 6,
      "outputs": [
        {
          "output_type": "stream",
          "name": "stdout",
          "text": [
            "Enter the base: 5\n",
            "Enter the height : 4\n",
            "Area of the triangle: 10.0\n"
          ]
        }
      ]
    }
  ]
}