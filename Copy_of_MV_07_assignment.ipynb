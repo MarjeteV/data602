{
  "nbformat": 4,
  "nbformat_minor": 0,
  "metadata": {
    "colab": {
      "provenance": [],
      "include_colab_link": true
    },
    "kernelspec": {
      "name": "python3",
      "display_name": "Python 3"
    }
  },
  "cells": [
    {
      "cell_type": "markdown",
      "metadata": {
        "id": "view-in-github",
        "colab_type": "text"
      },
      "source": [
        "<a href=\"https://colab.research.google.com/github/MarjeteV/data602/blob/main/Copy_of_MV_07_assignment.ipynb\" target=\"_parent\"><img src=\"https://colab.research.google.com/assets/colab-badge.svg\" alt=\"Open In Colab\"/></a>"
      ]
    },
    {
      "cell_type": "markdown",
      "metadata": {
        "id": "rd2QZetSDszc"
      },
      "source": [
        "# **Assignment 7**\n",
        "\n",
        "# **Weeks 8 & 9 - Pandas**\n",
        "* In this homework assignment, you will explore and analyze a public dataset of your choosing. Since this assignment is “open-ended” in nature, you are free to expand upon the requirements below. However, you must meet the minimum requirments as indicated in each section.\n",
        "\n",
        "* You must use Pandas as the **primary tool** to process your data.\n",
        "\n",
        "* The preferred method for this analysis is in a .ipynb file. Feel free to use whichever platform of your choosing.  \n",
        " * https://www.youtube.com/watch?v=inN8seMm7UI (Getting started with Colab).\n",
        "\n",
        "* Your data should need some \"work\", or be considered \"dirty\".  You must show your skills in data cleaning/wrangling.\n",
        "\n",
        "### **Some data examples:**\n",
        "•\thttps://www.data.gov/\n",
        "\n",
        "•\thttps://opendata.cityofnewyork.us/\n",
        "\n",
        "•\thttps://datasetsearch.research.google.com/\n",
        "\n",
        "•\thttps://archive.ics.uci.edu/ml/index.php\n",
        "\n",
        "### **Resources:**\n",
        "\n",
        "•\thttps://pandas.pydata.org/pandas-docs/stable/getting_started/10min.html\n",
        "\n",
        "•\thttps://pandas.pydata.org/pandas-docs/stable/user_guide/visualization.html\n",
        "\n",
        "\n",
        "### **Headings or comments**\n",
        "**You are required to make use of comments, or headings for each section.  You must explain what your code is doing, and the results of running your code.**  Act as if you were giving this assignment to your manager - you must include clear and descriptive information for each section.\n",
        "\n",
        "### **You may work as a group or indivdually on this assignment.**\n"
      ]
    },
    {
      "cell_type": "markdown",
      "metadata": {
        "id": "uW3w6p8rqgxu"
      },
      "source": [
        "# Introduction\n",
        "In this section, please describe the dataset you are using. Include a link to the source of this data. You should also provide some explanation on why you choose this dataset.\n",
        "\n",
        "\n",
        "\n",
        "The Measles data set was 'originally compiled by The Wall Street Journal'. I obtained it through [Kaggle](https://www.kaggle.com/datasets/jessemostipak/measles-immunization-rates-in-us-schools). The data set contains measles vaccination rate data for 46,412 schools in 32 states across the US for 2017 - 2019 school years. I choose this dataset as I am aware that NYS has more strict vaccination requirements for school enrollment and I was curious if other states implement similar standards. The data set also contains columns like the type of school (public, private, charter) which would be a potential way to group the data to see if there are any vaccination rate trends based on school types.\n",
        "\n"
      ]
    },
    {
      "cell_type": "markdown",
      "metadata": {
        "id": "3bp8cdDxDs2t"
      },
      "source": [
        "______________\n",
        "# Data Exploration\n",
        "Import your dataset into your .ipynb, create dataframes, and explore your data.  \n",
        "\n",
        "Include:\n",
        "\n",
        "* Summary statistics means, medians, quartiles,\n",
        "* Missing value information\n",
        "* Any other relevant information about the dataset.\n",
        "\n"
      ]
    },
    {
      "cell_type": "code",
      "metadata": {
        "id": "1OJmbafkEhhq",
        "outputId": "64dd53ab-4d20-4157-8a14-9c7c0bb1b886",
        "colab": {
          "base_uri": "https://localhost:8080/"
        }
      },
      "source": [
        "import pandas as pd\n",
        "# Import dataset\n",
        "url = 'https://raw.githubusercontent.com/MarjeteV/data602/main/measles%20-%20measles.csv'\n",
        "df = pd.read_csv(url)\n"
      ],
      "execution_count": 180,
      "outputs": [
        {
          "output_type": "stream",
          "name": "stderr",
          "text": [
            "<ipython-input-180-12baac299acc>:4: DtypeWarning: Columns (4,11) have mixed types. Specify dtype option on import or set low_memory=False.\n",
            "  df = pd.read_csv(url)\n"
          ]
        }
      ]
    },
    {
      "cell_type": "code",
      "metadata": {
        "id": "b0WTKtqozNn1",
        "colab": {
          "base_uri": "https://localhost:8080/"
        },
        "outputId": "e10f6d8a-04de-4cdb-8791-1113d371ad78"
      },
      "source": [
        " #reviewing columns and data present in first 5 rows\n",
        " print(df.head())\n"
      ],
      "execution_count": 181,
      "outputs": [
        {
          "output_type": "stream",
          "name": "stdout",
          "text": [
            "   index    state     year                                      name     type  \\\n",
            "0      1  Arizona  2018-19                   A J Mitchell Elementary   Public   \n",
            "1      2  Arizona  2018-19                           Academy Del Sol  Charter   \n",
            "2      3  Arizona  2018-19                    Academy Del Sol - Hope  Charter   \n",
            "3      4  Arizona  2018-19  Academy Of Mathematics And Science South  Charter   \n",
            "4      5  Arizona  2018-19                           Acclaim Academy  Charter   \n",
            "\n",
            "      city      county  district  enroll    mmr  overall xrel  xmed  xper  \\\n",
            "0  Nogales  Santa Cruz       NaN    51.0  100.0     -1.0  NaN   NaN   NaN   \n",
            "1   Tucson        Pima       NaN    22.0  100.0     -1.0  NaN   NaN   NaN   \n",
            "2   Tucson        Pima       NaN    85.0  100.0     -1.0  NaN   NaN   NaN   \n",
            "3  Phoenix    Maricopa       NaN    60.0  100.0     -1.0  NaN   NaN   NaN   \n",
            "4  Phoenix    Maricopa       NaN    43.0  100.0     -1.0  NaN  2.33  2.33   \n",
            "\n",
            "         lat         lng  \n",
            "0  31.347819 -110.938031  \n",
            "1  32.221922 -110.896103  \n",
            "2  32.130493 -111.117005  \n",
            "3  33.485447 -112.130633  \n",
            "4  33.495620 -112.224722  \n"
          ]
        }
      ]
    },
    {
      "cell_type": "code",
      "source": [
        "# Counting missing data per column\n",
        "missing_data = df.isna().sum()\n",
        "print(missing_data) #there is a lot of missing data in several columns"
      ],
      "metadata": {
        "colab": {
          "base_uri": "https://localhost:8080/"
        },
        "id": "lin-FatewRPI",
        "outputId": "f9f5d7a3-5206-4070-bc7b-cf9b49d4e891"
      },
      "execution_count": 182,
      "outputs": [
        {
          "output_type": "stream",
          "name": "stdout",
          "text": [
            "index           0\n",
            "state           0\n",
            "year         5681\n",
            "name            0\n",
            "type        36622\n",
            "city        20071\n",
            "county       6255\n",
            "district    66113\n",
            "enroll      16260\n",
            "mmr             0\n",
            "overall         0\n",
            "xrel        66004\n",
            "xmed        45122\n",
            "xper        57560\n",
            "lat          1549\n",
            "lng          1549\n",
            "dtype: int64\n"
          ]
        }
      ]
    },
    {
      "cell_type": "code",
      "source": [
        "# Summary statistics ie mean, median, quartiles, excluding missing data for numeric columns\n",
        "summary_stats = df.describe()\n",
        "\n",
        "print(summary_stats) #some columns like index, district, latitude and longtitude do not make sense in context of statistics"
      ],
      "metadata": {
        "colab": {
          "base_uri": "https://localhost:8080/"
        },
        "id": "E2YjXCOr3wXG",
        "outputId": "3eaaa550-18d4-4b99-c0ba-23ed86cab90f"
      },
      "execution_count": 183,
      "outputs": [
        {
          "output_type": "stream",
          "name": "stdout",
          "text": [
            "              index  district        enroll           mmr       overall  \\\n",
            "count  66113.000000       0.0  49853.000000  66113.000000  66113.000000   \n",
            "mean    1607.687006       NaN    131.934989     63.166385     54.086118   \n",
            "std     1706.767079       NaN    162.162060     45.724371     46.665942   \n",
            "min        1.000000       NaN      0.000000     -1.000000     -1.000000   \n",
            "25%      429.000000       NaN     46.000000     -1.000000     -1.000000   \n",
            "50%      997.000000       NaN     80.000000     95.000000     87.000000   \n",
            "75%     2133.000000       NaN    129.000000     98.000000     96.100000   \n",
            "max     8066.000000       NaN   6222.000000    100.000000    100.000000   \n",
            "\n",
            "               xmed         xper           lat           lng  \n",
            "count  20991.000000  8553.000000  64564.000000  64564.000000  \n",
            "mean       2.905775     6.780073     39.148041    -96.276156  \n",
            "std        3.852508     7.624310      4.576198     18.441197  \n",
            "min        0.040000     0.170000     24.553269   -124.496864  \n",
            "25%        1.000000     2.840000     35.689611   -117.629405  \n",
            "50%        2.000000     5.000000     40.205405    -89.968565  \n",
            "75%        3.530000     7.550000     42.179303    -81.748674  \n",
            "max      100.000000   169.230000     48.999955     80.205150  \n"
          ]
        }
      ]
    },
    {
      "cell_type": "markdown",
      "metadata": {
        "id": "kCSLIafaEGVK"
      },
      "source": [
        "# Data Wrangling\n",
        "Create a subset of your original data and perform the following.  \n",
        "\n",
        "1. Modify multiple column names.\n",
        "\n",
        "2. Look at the structure of your data – are any variables improperly coded? Such as strings or characters? Convert to correct structure if needed.\n",
        "\n",
        "3. Fix missing and invalid values in data.\n",
        "\n",
        "4. Create new columns based on existing columns or calculations.\n",
        "\n",
        "5. Drop column(s) from your dataset.\n",
        "\n",
        "6. Drop a row(s) from your dataset.\n",
        "\n",
        "7. Sort your data based on multiple variables.\n",
        "\n",
        "8. Filter your data based on some condition.\n",
        "\n",
        "9. Convert all the string values to upper or lower cases in one column.\n",
        "\n",
        "10. Check whether numeric values are present in a given column of your dataframe.\n",
        "\n",
        "11. Group your dataset by one column, and get the mean, min, and max values by group.\n",
        "  * Groupby()\n",
        "  * agg() or .apply()\n",
        "\n",
        "12. Group your dataset by two columns and then sort the aggregated results within the groups.\n",
        "\n",
        "**You are free (and should) to add on to these questions.  Please clearly indicate in your assignment your answers to these questions.**"
      ]
    },
    {
      "cell_type": "markdown",
      "source": [
        "1. Modify multiple column names."
      ],
      "metadata": {
        "id": "2T6l7kEBSh3G"
      }
    },
    {
      "cell_type": "code",
      "source": [
        "#Define a dictionary mapping old column names to new column names, I could add more if needed\n",
        "new_column_names = {\n",
        "    'xmed': 'medical_exemption',\n",
        "    'xper': 'personal_exemption',\n",
        "    'xrel': 'religious_exemption'\n",
        "}\n",
        "# Replace old names of the columns with the renamed ones\n",
        "df.rename(columns=new_column_names, inplace=True)\n",
        "\n",
        "# Print to verify the changes\n",
        "print(df.head())"
      ],
      "metadata": {
        "id": "8H3bwSGe2eb0",
        "colab": {
          "base_uri": "https://localhost:8080/"
        },
        "outputId": "a74a43f3-ebb7-4c12-a030-663a405c6621"
      },
      "execution_count": 184,
      "outputs": [
        {
          "output_type": "stream",
          "name": "stdout",
          "text": [
            "   index    state     year                                      name     type  \\\n",
            "0      1  Arizona  2018-19                   A J Mitchell Elementary   Public   \n",
            "1      2  Arizona  2018-19                           Academy Del Sol  Charter   \n",
            "2      3  Arizona  2018-19                    Academy Del Sol - Hope  Charter   \n",
            "3      4  Arizona  2018-19  Academy Of Mathematics And Science South  Charter   \n",
            "4      5  Arizona  2018-19                           Acclaim Academy  Charter   \n",
            "\n",
            "      city      county  district  enroll    mmr  overall religious_exemption  \\\n",
            "0  Nogales  Santa Cruz       NaN    51.0  100.0     -1.0                 NaN   \n",
            "1   Tucson        Pima       NaN    22.0  100.0     -1.0                 NaN   \n",
            "2   Tucson        Pima       NaN    85.0  100.0     -1.0                 NaN   \n",
            "3  Phoenix    Maricopa       NaN    60.0  100.0     -1.0                 NaN   \n",
            "4  Phoenix    Maricopa       NaN    43.0  100.0     -1.0                 NaN   \n",
            "\n",
            "   medical_exemption  personal_exemption        lat         lng  \n",
            "0                NaN                 NaN  31.347819 -110.938031  \n",
            "1                NaN                 NaN  32.221922 -110.896103  \n",
            "2                NaN                 NaN  32.130493 -111.117005  \n",
            "3                NaN                 NaN  33.485447 -112.130633  \n",
            "4               2.33                2.33  33.495620 -112.224722  \n"
          ]
        }
      ]
    },
    {
      "cell_type": "markdown",
      "source": [
        "2.  Data Structure"
      ],
      "metadata": {
        "id": "_lRGCBs9SlP_"
      }
    },
    {
      "cell_type": "code",
      "source": [
        "df.dtypes # examines datatype of each column"
      ],
      "metadata": {
        "colab": {
          "base_uri": "https://localhost:8080/"
        },
        "id": "IpDFHMFh-YbS",
        "outputId": "94fc6f49-f29a-48eb-e925-13adb3f0704e"
      },
      "execution_count": 185,
      "outputs": [
        {
          "output_type": "execute_result",
          "data": {
            "text/plain": [
              "index                    int64\n",
              "state                   object\n",
              "year                    object\n",
              "name                    object\n",
              "type                    object\n",
              "city                    object\n",
              "county                  object\n",
              "district               float64\n",
              "enroll                 float64\n",
              "mmr                    float64\n",
              "overall                float64\n",
              "religious_exemption     object\n",
              "medical_exemption      float64\n",
              "personal_exemption     float64\n",
              "lat                    float64\n",
              "lng                    float64\n",
              "dtype: object"
            ]
          },
          "metadata": {},
          "execution_count": 185
        }
      ]
    },
    {
      "cell_type": "code",
      "metadata": {
        "id": "4VWWvvynEiQT",
        "colab": {
          "base_uri": "https://localhost:8080/"
        },
        "outputId": "aeadd886-627c-4ce8-b1fa-09af65aaa202"
      },
      "source": [
        "# This shows columns with more than one data type\n",
        "df.applymap(type).apply(set).apply(len) > 1"
      ],
      "execution_count": 186,
      "outputs": [
        {
          "output_type": "execute_result",
          "data": {
            "text/plain": [
              "index                  False\n",
              "state                  False\n",
              "year                    True\n",
              "name                   False\n",
              "type                    True\n",
              "city                    True\n",
              "county                  True\n",
              "district               False\n",
              "enroll                 False\n",
              "mmr                    False\n",
              "overall                False\n",
              "religious_exemption     True\n",
              "medical_exemption      False\n",
              "personal_exemption     False\n",
              "lat                    False\n",
              "lng                    False\n",
              "dtype: bool"
            ]
          },
          "metadata": {},
          "execution_count": 186
        }
      ]
    },
    {
      "cell_type": "code",
      "source": [
        "#I will review some columns which I want to keep in my anaylsis\n",
        "# Prints the unique results for each column selected\n",
        "print (df['year'].unique())\n",
        "print (df['religious_exemption'].unique())\n",
        "print (df['type'].unique())"
      ],
      "metadata": {
        "colab": {
          "base_uri": "https://localhost:8080/"
        },
        "id": "vFKUZsY--X0i",
        "outputId": "716f5781-ffa0-42bc-8031-b55f9300e908"
      },
      "execution_count": 187,
      "outputs": [
        {
          "output_type": "stream",
          "name": "stdout",
          "text": [
            "['2018-19' '2017-18' nan '2017']\n",
            "[nan True]\n",
            "['Public' 'Charter' 'Private' nan 'Kindergarten' 'Nonpublic' 'BOCES']\n"
          ]
        }
      ]
    },
    {
      "cell_type": "code",
      "source": [
        "# Convert the column to string type to use string methods\n",
        "df['year'] = df['year'].astype(str)\n",
        "\n",
        "# Extract the year part so the -19 and -18 are removed\n",
        "df['year'] = df['year'].str[:4]\n",
        "\n",
        "#output included a period after the year so this code would remove it\n",
        "df['year'] = df['year'].str.replace('2017.', '2017')\n",
        "df['year'] = df['year'].str.replace('2018.', '2018')\n",
        "df['year'] = df['year'].str.replace('nan', '0000') ## Fill missing values didnt work: df['year'].fillna('0000', inplace=True)\n",
        "df['year'] = pd.to_numeric(df['year'], errors='coerce')\n",
        "\n",
        "# Print to confirm data types\n",
        "print(df['year'].unique())"
      ],
      "metadata": {
        "colab": {
          "base_uri": "https://localhost:8080/"
        },
        "id": "vQZelzenNLkh",
        "outputId": "b393473f-b05c-4387-ddd8-d15359dc8234"
      },
      "execution_count": 188,
      "outputs": [
        {
          "output_type": "stream",
          "name": "stdout",
          "text": [
            "[2018 2017    0]\n"
          ]
        }
      ]
    },
    {
      "cell_type": "code",
      "source": [
        "#using the method above, I will recategorize the nan in the 2 columns below\n",
        "df['religious_exemption'] = df['religious_exemption'].astype(str)\n",
        "df['religious_exemption'] = df['religious_exemption'].str.replace('nan', 'Unknown')\n",
        "\n",
        "df['type'] = df['type'].astype(str)\n",
        "df['type'] = df['type'].str.replace('nan', 'Unknown')\n",
        "\n",
        "# Print to confirm data types\n",
        "print(df['religious_exemption'].unique())\n",
        "print(df['type'].unique())"
      ],
      "metadata": {
        "colab": {
          "base_uri": "https://localhost:8080/"
        },
        "id": "OqbE2Y1CQ3ib",
        "outputId": "db0878a9-7e07-4560-8c29-f54e0e6ce803"
      },
      "execution_count": 189,
      "outputs": [
        {
          "output_type": "stream",
          "name": "stdout",
          "text": [
            "['Unknown' 'True']\n",
            "['Public' 'Charter' 'Private' 'Unknown' 'Kindergarten' 'Nonpublic' 'BOCES']\n"
          ]
        }
      ]
    },
    {
      "cell_type": "markdown",
      "source": [
        "3. Fix missing data, above it made sense to fill in nan with other text. For the datachunk below, the NA will be dropped"
      ],
      "metadata": {
        "id": "AHC1C1ApSxUb"
      }
    },
    {
      "cell_type": "code",
      "source": [
        "# fix missing data, if there was missing data for # of students enrolled, it makes sense to drop those rows.\n",
        "df.dropna(subset=['enroll'], inplace=True)\n",
        "\n",
        "# Print to verify the changes\n",
        "print(df.head())"
      ],
      "metadata": {
        "colab": {
          "base_uri": "https://localhost:8080/"
        },
        "id": "AbdmpBiqScmZ",
        "outputId": "c4db709f-3700-4286-8fd0-ff59bcdeaeaf"
      },
      "execution_count": 190,
      "outputs": [
        {
          "output_type": "stream",
          "name": "stdout",
          "text": [
            "   index    state  year                                      name     type  \\\n",
            "0      1  Arizona  2018                   A J Mitchell Elementary   Public   \n",
            "1      2  Arizona  2018                           Academy Del Sol  Charter   \n",
            "2      3  Arizona  2018                    Academy Del Sol - Hope  Charter   \n",
            "3      4  Arizona  2018  Academy Of Mathematics And Science South  Charter   \n",
            "4      5  Arizona  2018                           Acclaim Academy  Charter   \n",
            "\n",
            "      city      county  district  enroll    mmr  overall religious_exemption  \\\n",
            "0  Nogales  Santa Cruz       NaN    51.0  100.0     -1.0             Unknown   \n",
            "1   Tucson        Pima       NaN    22.0  100.0     -1.0             Unknown   \n",
            "2   Tucson        Pima       NaN    85.0  100.0     -1.0             Unknown   \n",
            "3  Phoenix    Maricopa       NaN    60.0  100.0     -1.0             Unknown   \n",
            "4  Phoenix    Maricopa       NaN    43.0  100.0     -1.0             Unknown   \n",
            "\n",
            "   medical_exemption  personal_exemption        lat         lng  \n",
            "0                NaN                 NaN  31.347819 -110.938031  \n",
            "1                NaN                 NaN  32.221922 -110.896103  \n",
            "2                NaN                 NaN  32.130493 -111.117005  \n",
            "3                NaN                 NaN  33.485447 -112.130633  \n",
            "4               2.33                2.33  33.495620 -112.224722  \n"
          ]
        }
      ]
    },
    {
      "cell_type": "markdown",
      "source": [
        "4. Create a new column & 5. drop columns"
      ],
      "metadata": {
        "id": "YWdjHSP2ZVU8"
      }
    },
    {
      "cell_type": "code",
      "source": [
        "# Create a new column based on calculations\n",
        "df['medical_or_personal_exemption'] = df['personal_exemption'] + df['medical_exemption']\n",
        "\n",
        "# Select the columns to drop\n",
        "columns_to_drop = ['medical_exemption', 'personal_exemption', 'lat', 'lng', 'district', 'name', 'city','county']\n",
        "\n",
        "# Drop the specified columns\n",
        "df.drop(columns=columns_to_drop, inplace=True)\n",
        "\n",
        "# Print the DataFrame to verify the changes\n",
        "print(df.head())"
      ],
      "metadata": {
        "colab": {
          "base_uri": "https://localhost:8080/"
        },
        "id": "h7TZwyvTZXLt",
        "outputId": "60490245-8807-4720-cb6e-056dc90d0c1a"
      },
      "execution_count": 191,
      "outputs": [
        {
          "output_type": "stream",
          "name": "stdout",
          "text": [
            "   index    state  year     type  enroll    mmr  overall religious_exemption  \\\n",
            "0      1  Arizona  2018   Public    51.0  100.0     -1.0             Unknown   \n",
            "1      2  Arizona  2018  Charter    22.0  100.0     -1.0             Unknown   \n",
            "2      3  Arizona  2018  Charter    85.0  100.0     -1.0             Unknown   \n",
            "3      4  Arizona  2018  Charter    60.0  100.0     -1.0             Unknown   \n",
            "4      5  Arizona  2018  Charter    43.0  100.0     -1.0             Unknown   \n",
            "\n",
            "   medical_or_personal_exemption  \n",
            "0                            NaN  \n",
            "1                            NaN  \n",
            "2                            NaN  \n",
            "3                            NaN  \n",
            "4                           4.66  \n"
          ]
        }
      ]
    },
    {
      "cell_type": "markdown",
      "source": [
        "6. Drop row from your dataset"
      ],
      "metadata": {
        "id": "mXIr8HYTinhX"
      }
    },
    {
      "cell_type": "code",
      "source": [
        "# Create mask of duplicates\n",
        "duplicate_mask = df.duplicated()\n",
        "\n",
        "# Count the number of True values in the mask\n",
        "num_duplicates = duplicate_mask.sum()\n",
        "\n",
        "# Print the number of duplicate rows\n",
        "print( num_duplicates)\n",
        "\n",
        "df = df.drop_duplicates()\n",
        "\n",
        "# Print the DataFrame after removing duplicates\n",
        "print(df.head())"
      ],
      "metadata": {
        "colab": {
          "base_uri": "https://localhost:8080/"
        },
        "id": "DX2xOcFPg1AZ",
        "outputId": "829b69a7-779b-4851-8a42-af41df4d91c8"
      },
      "execution_count": 192,
      "outputs": [
        {
          "output_type": "stream",
          "name": "stdout",
          "text": [
            "16286\n",
            "   index    state  year     type  enroll    mmr  overall religious_exemption  \\\n",
            "0      1  Arizona  2018   Public    51.0  100.0     -1.0             Unknown   \n",
            "1      2  Arizona  2018  Charter    22.0  100.0     -1.0             Unknown   \n",
            "2      3  Arizona  2018  Charter    85.0  100.0     -1.0             Unknown   \n",
            "3      4  Arizona  2018  Charter    60.0  100.0     -1.0             Unknown   \n",
            "4      5  Arizona  2018  Charter    43.0  100.0     -1.0             Unknown   \n",
            "\n",
            "   medical_or_personal_exemption  \n",
            "0                            NaN  \n",
            "1                            NaN  \n",
            "2                            NaN  \n",
            "3                            NaN  \n",
            "4                           4.66  \n"
          ]
        }
      ]
    },
    {
      "cell_type": "markdown",
      "source": [
        "\n",
        "7. Sort your data based on multiple variables.\n"
      ],
      "metadata": {
        "id": "9vrr5wG5i6Ln"
      }
    },
    {
      "cell_type": "code",
      "source": [
        "df_sorted = df.sort_values(by=['overall',], ascending=[True])\n",
        "\n",
        "# Print the sorted DataFrame\n",
        "print(df_sorted.head())"
      ],
      "metadata": {
        "colab": {
          "base_uri": "https://localhost:8080/"
        },
        "id": "B9gEGtNyi5k0",
        "outputId": "7b8ea93f-68c6-407e-fc15-6b247c9ccc52"
      },
      "execution_count": 203,
      "outputs": [
        {
          "output_type": "stream",
          "name": "stdout",
          "text": [
            "       index     state  year     type  enroll         mmr  overall  \\\n",
            "0          1   Arizona  2018   Public    51.0  100.000000     -1.0   \n",
            "29157   2570  Illinois  2018  Unknown   392.0   96.938776     -1.0   \n",
            "29158   2571  Illinois  2018  Unknown   457.0   96.936543     -1.0   \n",
            "29159   2572  Illinois  2018  Unknown   261.0   96.934866     -1.0   \n",
            "29160   2573  Illinois  2018  Unknown   424.0   96.933962     -1.0   \n",
            "\n",
            "      religious_exemption  medical_or_personal_exemption  \n",
            "0                 Unknown                            NaN  \n",
            "29157             Unknown                            NaN  \n",
            "29158             Unknown                            NaN  \n",
            "29159             Unknown                            NaN  \n",
            "29160             Unknown                            NaN  \n"
          ]
        }
      ]
    },
    {
      "cell_type": "code",
      "source": [
        "df_sorted = df.sort_values(by='mmr')\n",
        "print(df_sorted.head()) #why is mmr -1 when overall is high and mmr high when overall is -1?"
      ],
      "metadata": {
        "colab": {
          "base_uri": "https://localhost:8080/"
        },
        "id": "-1xrGF39jzqU",
        "outputId": "a1232658-5491-4468-c8fe-c09a867a2750"
      },
      "execution_count": 194,
      "outputs": [
        {
          "output_type": "stream",
          "name": "stdout",
          "text": [
            "       index     state  year     type  enroll  mmr  overall  \\\n",
            "31583    228      Iowa  2018  Unknown   235.0 -1.0     97.9   \n",
            "35574    822  Michigan  2018  Unknown    69.0 -1.0     94.2   \n",
            "35573    821  Michigan  2018  Unknown   154.0 -1.0     94.2   \n",
            "35572    820  Michigan  2018  Unknown    52.0 -1.0     94.2   \n",
            "35571    819  Michigan  2018  Unknown   103.0 -1.0     94.2   \n",
            "\n",
            "      religious_exemption  medical_or_personal_exemption  \n",
            "31583             Unknown                            NaN  \n",
            "35574             Unknown                            NaN  \n",
            "35573             Unknown                            NaN  \n",
            "35572             Unknown                            NaN  \n",
            "35571             Unknown                            NaN  \n"
          ]
        }
      ]
    },
    {
      "cell_type": "markdown",
      "source": [
        "\n",
        "8. Filter your data based on some condition.\n",
        "Overall vaccination rate and mmr vaccination rate has many results of -1, this seems to be an invalid result. I wasnt sure how to handle this so I filtered it out.\n"
      ],
      "metadata": {
        "id": "_ymvMCGdkN95"
      }
    },
    {
      "cell_type": "code",
      "source": [
        "# Filtering vaccination rates to be more than -1\n",
        "filtered_data = df[df['overall'] > -1]\n",
        "# Print the filtered data\n",
        "filtered_data2 = filtered_data[filtered_data['mmr'] > -1].copy() # create a copy to prevent errors later\n",
        "print(filtered_data2.head())"
      ],
      "metadata": {
        "colab": {
          "base_uri": "https://localhost:8080/"
        },
        "id": "bPyUzzyXkPCa",
        "outputId": "5e9b32b8-9205-4094-df5b-8b545a4ea0aa"
      },
      "execution_count": 195,
      "outputs": [
        {
          "output_type": "stream",
          "name": "stdout",
          "text": [
            "      index       state  year    type  enroll   mmr  overall  \\\n",
            "2018      1  California  2018  Public   137.0  99.0     96.0   \n",
            "2019      2  California  2018  Public   135.0  99.0     99.0   \n",
            "2027      3  California  2018  Public   116.0  99.0     99.0   \n",
            "2028      4  California  2018  Public   100.0  99.0     97.0   \n",
            "2029      5  California  2018  Public   121.0  99.0     99.0   \n",
            "\n",
            "     religious_exemption  medical_or_personal_exemption  \n",
            "2018             Unknown                            NaN  \n",
            "2019             Unknown                            NaN  \n",
            "2027             Unknown                            NaN  \n",
            "2028             Unknown                            NaN  \n",
            "2029             Unknown                            NaN  \n"
          ]
        }
      ]
    },
    {
      "cell_type": "markdown",
      "source": [
        "\n",
        "9. Convert all the string values to upper or lower cases in one column.\n",
        "\n"
      ],
      "metadata": {
        "id": "NXpl0ZRrkzCW"
      }
    },
    {
      "cell_type": "code",
      "source": [
        "# All rows in the 'type' column are selected with loc\n",
        "filtered_data2.loc[:, 'type'] = filtered_data2['type'].str.lower()\n",
        "\n",
        "# Print the filtered DataFrame\n",
        "print(filtered_data2.head())\n"
      ],
      "metadata": {
        "id": "4jofH9B9k0HV",
        "colab": {
          "base_uri": "https://localhost:8080/"
        },
        "outputId": "e607363d-1ca7-49d3-cceb-852221ed9f58"
      },
      "execution_count": 196,
      "outputs": [
        {
          "output_type": "stream",
          "name": "stdout",
          "text": [
            "      index       state  year    type  enroll   mmr  overall  \\\n",
            "2018      1  California  2018  public   137.0  99.0     96.0   \n",
            "2019      2  California  2018  public   135.0  99.0     99.0   \n",
            "2027      3  California  2018  public   116.0  99.0     99.0   \n",
            "2028      4  California  2018  public   100.0  99.0     97.0   \n",
            "2029      5  California  2018  public   121.0  99.0     99.0   \n",
            "\n",
            "     religious_exemption  medical_or_personal_exemption  \n",
            "2018             Unknown                            NaN  \n",
            "2019             Unknown                            NaN  \n",
            "2027             Unknown                            NaN  \n",
            "2028             Unknown                            NaN  \n",
            "2029             Unknown                            NaN  \n"
          ]
        }
      ]
    },
    {
      "cell_type": "markdown",
      "source": [
        "\n",
        "\n",
        " 10. Check whether numeric values are present in a given column of your dataframe.\n",
        "\n"
      ],
      "metadata": {
        "id": "jDJSzsz7amhk"
      }
    },
    {
      "cell_type": "code",
      "source": [
        "# Replaces na with 0\n",
        "filtered_data2['medical_or_personal_exemption'].fillna(0, inplace=True)\n",
        "# Checks if values are numeric\n",
        "numeric_present = pd.to_numeric(filtered_data2['medical_or_personal_exemption'], errors='coerce').notnull().all()\n",
        "# Prints true or false\n",
        "print(numeric_present)\n"
      ],
      "metadata": {
        "id": "7yEiD0S-alfE",
        "colab": {
          "base_uri": "https://localhost:8080/"
        },
        "outputId": "22850590-94ce-4cc3-9b83-05d8ca5ecb7c"
      },
      "execution_count": 197,
      "outputs": [
        {
          "output_type": "stream",
          "name": "stdout",
          "text": [
            "True\n"
          ]
        }
      ]
    },
    {
      "cell_type": "markdown",
      "source": [
        "11. Group your dataset by one column, and get the mean, min, and max values by group.\n",
        "  * Groupby()\n",
        "  * agg() or .apply()"
      ],
      "metadata": {
        "id": "hpBN0BRv1dQa"
      }
    },
    {
      "cell_type": "code",
      "source": [
        "# Grouped nonfiltered dataset by state and mmr vaccination column for summary statistics\n",
        "grouped_data = df.groupby('state').agg({'mmr': ['mean', 'min', 'max']})\n",
        "\n",
        "# Print the grouped data\n",
        "print(grouped_data)"
      ],
      "metadata": {
        "colab": {
          "base_uri": "https://localhost:8080/"
        },
        "id": "iQ48272E5Sml",
        "outputId": "84dc02c6-d226-4a62-b76a-54e8869b5d26"
      },
      "execution_count": 198,
      "outputs": [
        {
          "output_type": "stream",
          "name": "stdout",
          "text": [
            "                      mmr                      \n",
            "                     mean        min        max\n",
            "state                                          \n",
            "Arizona         92.699916  15.380000  100.00000\n",
            "Arkansas        80.522708  17.218540   96.09484\n",
            "California      79.088725  -1.000000   99.00000\n",
            "Colorado        94.276490  -1.000000  100.00000\n",
            "Florida         -1.000000  -1.000000   -1.00000\n",
            "Illinois        97.071439  10.365854  100.00000\n",
            "Iowa            -1.000000  -1.000000   -1.00000\n",
            "Maine           92.554816  38.460000  100.00000\n",
            "Michigan        -1.000000  -1.000000   -1.00000\n",
            "Minnesota       90.109363  -1.000000  100.00000\n",
            "Montana         93.661514  -1.000000  100.00000\n",
            "New Jersey      -1.000000  -1.000000   -1.00000\n",
            "North Carolina  -1.000000  -1.000000   -1.00000\n",
            "North Dakota    92.836353  28.130000  100.00000\n",
            "Ohio            90.365297   2.780000  100.00000\n",
            "Oregon          92.617155  -1.000000  100.00000\n",
            "Pennsylvania    96.828624  42.600000  100.00000\n",
            "Rhode Island    -1.000000  -1.000000   -1.00000\n",
            "South Dakota    93.211459  -1.000000  100.00000\n",
            "Tennessee       -1.000000  -1.000000   -1.00000\n",
            "Utah            95.202396  20.000000  100.00000\n",
            "Vermont         91.570665  -1.000000  100.00000\n",
            "Virginia        -1.000000  -1.000000   -1.00000\n"
          ]
        }
      ]
    },
    {
      "cell_type": "code",
      "source": [
        "grouped_data = filtered_data2.groupby('state').agg({'mmr': ['mean', 'min', 'max']})\n",
        "\n",
        "# Print the grouped data\n",
        "print(grouped_data) # with negative 1 being filtered a lot less states are shown below"
      ],
      "metadata": {
        "colab": {
          "base_uri": "https://localhost:8080/"
        },
        "id": "I2aFVVzW1ffn",
        "outputId": "91830ecd-9d83-48e9-f861-d59d6c033a7b"
      },
      "execution_count": 199,
      "outputs": [
        {
          "output_type": "stream",
          "name": "stdout",
          "text": [
            "                  mmr                  \n",
            "                 mean        min    max\n",
            "state                                  \n",
            "California  95.604569   1.000000   99.0\n",
            "Colorado    94.412692  16.180000  100.0\n",
            "Ohio        90.443278  14.290000  100.0\n",
            "Oregon      93.911998  43.111111  100.0\n",
            "Vermont     94.583320  33.333333  100.0\n"
          ]
        }
      ]
    },
    {
      "cell_type": "markdown",
      "source": [
        "12. Group your dataset by two columns and then sort the aggregated results within the groups."
      ],
      "metadata": {
        "id": "tyyYvlLA4KaD"
      }
    },
    {
      "cell_type": "code",
      "source": [
        "# Group the dataset by two columns and calculate mean by group\n",
        "grouped_data2 = df.groupby(['type', 'year']).agg({'medical_or_personal_exemption': 'mean'})\n",
        "\n",
        "# Sort the aggregated results in each group\n",
        "sorted_data = grouped_data2.sort_values(by='medical_or_personal_exemption', ascending=False) #high to low\n",
        "\n",
        "# Print the data\n",
        "print(sorted_data.head())"
      ],
      "metadata": {
        "colab": {
          "base_uri": "https://localhost:8080/"
        },
        "id": "AG5Ra42b4Kr5",
        "outputId": "ec27a3d6-953c-4408-9c08-b1a5a8f7f2f2"
      },
      "execution_count": 200,
      "outputs": [
        {
          "output_type": "stream",
          "name": "stdout",
          "text": [
            "                   medical_or_personal_exemption\n",
            "type         year                               \n",
            "Private      2018                      20.021667\n",
            "             2017                      11.525000\n",
            "Charter      2018                      11.477083\n",
            "Kindergarten 2017                       8.368485\n",
            "Public       2018                       8.186531\n"
          ]
        }
      ]
    },
    {
      "cell_type": "markdown",
      "source": [
        "# Conclusions  \n",
        "\n",
        "After exploring your dataset, provide a short summary of what you noticed from this dataset.  What would you explore further with more time?"
      ],
      "metadata": {
        "id": "tujjevRpXEen"
      }
    },
    {
      "cell_type": "code",
      "source": [
        "#I was curious about how much of the mmr vaccination rates in the original dataset were less than 15%, and found that 38% of the dataset fell in this category\n",
        "count_less_than_15 = (df['mmr'] < 15).sum()\n",
        "\n",
        "# Calculate the total number of data points in the column\n",
        "total_count = len(df['mmr'])\n",
        "\n",
        "# Calculate the percentage of data points less than 15\n",
        "percentage= (count_less_than_15 / total_count) * 100\n",
        "print(percentage)"
      ],
      "metadata": {
        "id": "keivWe4Jkygt",
        "colab": {
          "base_uri": "https://localhost:8080/"
        },
        "outputId": "2bcceebb-60b0-43a3-a3ab-18c9b320f85f"
      },
      "execution_count": 201,
      "outputs": [
        {
          "output_type": "stream",
          "name": "stdout",
          "text": [
            "38.08502398188697\n"
          ]
        }
      ]
    },
    {
      "cell_type": "markdown",
      "source": [
        "The conclusions I can somewhat draw based on this dataset is that there are fewer medical_or_personal_exemption in kindergarden than other school type or perhaps than higher grade levels. Based on the groupings I can also conclude that based on this dataset, and particularlly the filter_data2 dataset (removing the -1 rates), the states with the highest mmr vaccination rate seem to be California and Vermont.\n",
        "\n",
        "Overall vaccination rate and mmr vaccination rate has many results of -1 and other low values. While it is clear that a value of -1 mmr or overall vaccination is probably invalid, making a more realistic filter is difficult since there are values as low as 4, and 10 and 15 which might also be invalid or maybe the schools have an extremely low vaccination rate, its hard to tell with out more information.\n",
        "\n",
        "Ideally, I would have liked to access the dataset from the origin source, hoping to find more expanation about these values. However, when I tried to track down the orginal source the Wall Street Jornal would not allow access with out a membership. With more time I would have looked into other datasets to view what an average low vaccination rate is to find a better cut off of which rates were invalid. In the future I plan to use dataset from the original source due to the possibility this dataset was altered from the original which might explain the invalid outcome."
      ],
      "metadata": {
        "id": "-czneu237C6i"
      }
    }
  ]
}